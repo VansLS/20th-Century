{
 "cells": [
  {
   "cell_type": "code",
   "execution_count": 75,
   "id": "ffc773e6-ac35-4db6-92c5-9317b4c2d824",
   "metadata": {},
   "outputs": [],
   "source": [
    "# Import libraries\n",
    "\n",
    "import pandas as pd\n",
    "import time\n",
    "from selenium import webdriver\n",
    "from webdriver_manager.chrome import ChromeDriverManager\n",
    "from selenium.webdriver.common.by import By\n",
    "from selenium.webdriver.chrome.service import Service\n",
    "from selenium.webdriver.chrome.options import Options\n",
    "import matplotlib.pyplot as plt\n",
    "import os\n",
    "import logging\n",
    "import requests\n",
    "import bs4\n",
    "from bs4 import BeautifulSoup"
   ]
  },
  {
   "cell_type": "code",
   "execution_count": 77,
   "id": "bfa92791-d283-48f2-8fb9-3850f41b3305",
   "metadata": {},
   "outputs": [],
   "source": [
    "## Setup chrome options\n",
    "\n",
    "chrome_options = Options()\n",
    "chrome_options.add_argument(\"--headless\") # Ensure GUI is off\n",
    "chrome_options.add_argument(\"--no-sandbox\")"
   ]
  },
  {
   "cell_type": "markdown",
   "id": "cd3ad800-0c17-4b09-891c-147f3d1fcaa3",
   "metadata": {},
   "source": [
    "#install chrome drive manager"
   ]
  },
  {
   "cell_type": "code",
   "execution_count": 80,
   "id": "9efce462-7457-4afd-a26d-d94110abb662",
   "metadata": {},
   "outputs": [],
   "source": [
    "service = Service(executable_path=ChromeDriverManager().install())"
   ]
  },
  {
   "cell_type": "code",
   "execution_count": 82,
   "id": "6c77e171-af2d-4d2f-af8a-edb7a61763fb",
   "metadata": {},
   "outputs": [],
   "source": [
    "driver = webdriver.Chrome(service=service)"
   ]
  },
  {
   "cell_type": "markdown",
   "id": "384beeb0-aa6b-46cb-93b7-4979a706bc1b",
   "metadata": {},
   "source": [
    "# Scraping the page"
   ]
  },
  {
   "cell_type": "code",
   "execution_count": 53,
   "id": "2b3e98f2-68d6-4dd0-924b-2ab9c8cc913c",
   "metadata": {},
   "outputs": [],
   "source": [
    "# Get the page's contents\n",
    "page_url = \"https://en.wikipedia.org/wiki/Key_events_of_the_20th_century\"\n",
    "driver.get(page_url)"
   ]
  },
  {
   "cell_type": "code",
   "execution_count": 102,
   "id": "4e2627a6-f3ac-4274-a35c-2d228f598d2b",
   "metadata": {},
   "outputs": [],
   "source": [
    "# Get URL\n",
    "page = requests.get(\"https://en.wikipedia.org/wiki/Key_events_of_the_20th_century\")"
   ]
  },
  {
   "cell_type": "code",
   "execution_count": 86,
   "id": "6e25600b-c772-45e7-8475-7c365278ca9f",
   "metadata": {},
   "outputs": [
    {
     "name": "stdout",
     "output_type": "stream",
     "text": [
      "<title>Key events of the 20th century - Wikipedia</title>\n"
     ]
    }
   ],
   "source": [
    "# Create soup and get title\n",
    "soup = BeautifulSoup(page.text, 'html.parser')\n",
    "print(soup.title)"
   ]
  },
  {
   "cell_type": "code",
   "execution_count": 88,
   "id": "320790cd-f33a-4baa-8e5f-186678dcc0a4",
   "metadata": {},
   "outputs": [],
   "source": [
    "text = soup.get_text()"
   ]
  },
  {
   "cell_type": "code",
   "execution_count": 90,
   "id": "f350961b-7dd7-475a-8eb8-1af1a57f5b8e",
   "metadata": {},
   "outputs": [],
   "source": [
    "text = text.encode ('utf-8')"
   ]
  },
  {
   "cell_type": "code",
   "execution_count": 94,
   "id": "94680c23-9e85-40bb-a743-4496f4cd462b",
   "metadata": {},
   "outputs": [],
   "source": [
    "with open('20thCentury.txt', 'wb') as f: \n",
    "    f.write(text)"
   ]
  },
  {
   "cell_type": "code",
   "execution_count": 99,
   "id": "e3ffff39-b5af-42fd-aca4-1ae40ca384b7",
   "metadata": {},
   "outputs": [],
   "source": []
  },
  {
   "cell_type": "code",
   "execution_count": null,
   "id": "50610e54-f538-4e3a-a428-5b9aa556502c",
   "metadata": {},
   "outputs": [],
   "source": []
  },
  {
   "cell_type": "code",
   "execution_count": null,
   "id": "2e457c72-14aa-453c-b3a3-4a929b071c7a",
   "metadata": {},
   "outputs": [],
   "source": []
  }
 ],
 "metadata": {
  "kernelspec": {
   "display_name": "Python [conda env:venv_20th_century]",
   "language": "python",
   "name": "conda-env-venv_20th_century-py"
  },
  "language_info": {
   "codemirror_mode": {
    "name": "ipython",
    "version": 3
   },
   "file_extension": ".py",
   "mimetype": "text/x-python",
   "name": "python",
   "nbconvert_exporter": "python",
   "pygments_lexer": "ipython3",
   "version": "3.12.4"
  }
 },
 "nbformat": 4,
 "nbformat_minor": 5
}
