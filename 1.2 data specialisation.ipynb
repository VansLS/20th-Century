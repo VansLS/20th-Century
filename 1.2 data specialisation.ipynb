{
 "cells": [
  {
   "cell_type": "markdown",
   "id": "1e0663de-d930-4199-95f2-dd3a68ca1f76",
   "metadata": {},
   "source": [
    "# 1.2"
   ]
  },
  {
   "cell_type": "code",
   "execution_count": 4,
   "id": "bfbcd1aa-2371-41c6-837d-929e91db8a8b",
   "metadata": {},
   "outputs": [],
   "source": [
    "a= 92480239"
   ]
  },
  {
   "cell_type": "code",
   "execution_count": 6,
   "id": "9d61a793-5194-4556-89ec-7da6132b1e09",
   "metadata": {},
   "outputs": [],
   "source": [
    "b=98403"
   ]
  },
  {
   "cell_type": "code",
   "execution_count": 8,
   "id": "3b7c5d24-54aa-4844-a38c-52f38fd3311b",
   "metadata": {},
   "outputs": [
    {
     "data": {
      "text/plain": [
       "939.8111744560633"
      ]
     },
     "execution_count": 8,
     "metadata": {},
     "output_type": "execute_result"
    }
   ],
   "source": [
    "a/b"
   ]
  },
  {
   "cell_type": "code",
   "execution_count": null,
   "id": "463e84b6-c62a-4cee-b6a0-4e044afbe7f2",
   "metadata": {},
   "outputs": [],
   "source": []
  },
  {
   "cell_type": "code",
   "execution_count": null,
   "id": "885a226e-1914-4755-8e8c-270974698a94",
   "metadata": {},
   "outputs": [],
   "source": []
  },
  {
   "cell_type": "code",
   "execution_count": null,
   "id": "07cca046-86fc-41bc-8505-67e55d9aa0a5",
   "metadata": {},
   "outputs": [],
   "source": []
  }
 ],
 "metadata": {
  "kernelspec": {
   "display_name": "Python 3 (ipykernel)",
   "language": "python",
   "name": "python3"
  },
  "language_info": {
   "codemirror_mode": {
    "name": "ipython",
    "version": 3
   },
   "file_extension": ".py",
   "mimetype": "text/x-python",
   "name": "python",
   "nbconvert_exporter": "python",
   "pygments_lexer": "ipython3",
   "version": "3.11.7"
  }
 },
 "nbformat": 4,
 "nbformat_minor": 5
}
